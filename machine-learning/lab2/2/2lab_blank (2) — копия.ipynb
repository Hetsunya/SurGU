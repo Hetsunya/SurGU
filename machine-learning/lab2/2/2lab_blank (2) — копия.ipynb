{
  "cells": [
    {
      "cell_type": "markdown",
      "source": [
        "# Задание 2"
      ],
      "metadata": {
        "id": "vIozmGF7aL2s"
      }
    },
    {
      "cell_type": "markdown",
      "source": [
        "## Проверим Pandas\n",
        "Скачать с Kaggle [данные с температурой по городам](https://www.kaggle.com/datasets/sudalairajkumar/daily-temperature-of-major-cities).\n",
        "\n",
        "Если очень не хочется регистрироваться на сайте, архив *(2data.zip)* можно взять в папке с [заданием](https://disk.yandex.ru/d/MrtwhwSBdLuKKA)."
      ],
      "metadata": {
        "id": "DUxPN1OpblVO"
      }
    },
    {
      "cell_type": "code",
      "execution_count": 1,
      "metadata": {
        "id": "gQaWQpUm7pxd"
      },
      "outputs": [],
      "source": [
        "import pandas as pd"
      ]
    },
    {
      "cell_type": "markdown",
      "source": [
        "Считать данные в `pandas.DataFrame`, посмотреть, что там лежит.\n",
        "\n",
        "Если хотите вспомнить, как обращаться с DataFrame, могу порекомендовать [мини-курс](https://www.kaggle.com/code/residentmario/creating-reading-and-writing) на том же Kaggle:  там есть примеры всех нужных действий, сгруппированных на 6 страницах (считывание, обращение по индексу, изменение, типы данных)."
      ],
      "metadata": {
        "id": "CQrDk5NsmtI9"
      }
    },
    {
      "cell_type": "code",
      "source": [],
      "metadata": {
        "id": "tE0CxmVDm-KF"
      },
      "execution_count": null,
      "outputs": []
    },
    {
      "cell_type": "code",
      "source": [],
      "metadata": {
        "id": "_WCC-1SLm9wC"
      },
      "execution_count": null,
      "outputs": []
    },
    {
      "cell_type": "markdown",
      "metadata": {
        "id": "fjXnzqZf7pxm"
      },
      "source": [
        "Сколько записей имеют нулевое значение по полю State?"
      ]
    },
    {
      "cell_type": "code",
      "source": [],
      "metadata": {
        "id": "-Ix_qN9d0Gc4"
      },
      "execution_count": null,
      "outputs": []
    },
    {
      "cell_type": "markdown",
      "source": [
        "Нужно сравнить выполнение операции над числами с плавающей точкой и над целыми числами. Для этого в DateFrame следует создать новый столбец, в который будут записаны значения температуры, умноженные на 10 и приведенные к *int*."
      ],
      "metadata": {
        "id": "QGBVe_hfpRYi"
      }
    },
    {
      "cell_type": "code",
      "source": [],
      "metadata": {
        "id": "MrHtqvY1qjOa"
      },
      "execution_count": null,
      "outputs": []
    },
    {
      "cell_type": "code",
      "source": [
        "import datetime"
      ],
      "metadata": {
        "id": "Z4q-y8AgamGe"
      },
      "execution_count": 13,
      "outputs": []
    },
    {
      "cell_type": "markdown",
      "source": [
        "Замерить время исполнения операции с данными (например, подсчета среднего значения `mean()` для столбца).\n",
        "\n",
        "Предлагаю использовать библиотеку **datetime**, но можете использовать любую другую.\n"
      ],
      "metadata": {
        "id": "_ZcifPrVqdVb"
      }
    },
    {
      "cell_type": "code",
      "source": [],
      "metadata": {
        "id": "aMq3n76u0Mli"
      },
      "execution_count": null,
      "outputs": []
    },
    {
      "cell_type": "code",
      "source": [],
      "metadata": {
        "id": "tLXVgdB4rC7T"
      },
      "execution_count": null,
      "outputs": []
    },
    {
      "cell_type": "markdown",
      "source": [
        "## Проверка через numpy\n",
        "Проверим то же самое для numpy массива. Для этого колонку `pd.Series` нужно привести к numpy массиву, явно указав тип данных. Для исходной температуры будет float64, для целочисленной - int16."
      ],
      "metadata": {
        "id": "4lrubLjkatG1"
      }
    },
    {
      "cell_type": "code",
      "execution_count": 22,
      "metadata": {
        "id": "Kjcb7yhC7pxt"
      },
      "outputs": [],
      "source": [
        "import numpy as np"
      ]
    },
    {
      "cell_type": "code",
      "source": [],
      "metadata": {
        "id": "_40fPrserwPG"
      },
      "execution_count": null,
      "outputs": []
    },
    {
      "cell_type": "markdown",
      "source": [
        "Замерить время выполнения той же операции `mean()`."
      ],
      "metadata": {
        "id": "LzB-LpgFrxFy"
      }
    },
    {
      "cell_type": "code",
      "source": [],
      "metadata": {
        "id": "KwBhDe9sr5Un"
      },
      "execution_count": null,
      "outputs": []
    },
    {
      "cell_type": "markdown",
      "source": [
        "# Задание 4"
      ],
      "metadata": {
        "id": "C4zWbSViazvN"
      }
    },
    {
      "cell_type": "code",
      "execution_count": 31,
      "metadata": {
        "id": "AsUsYR8q7pxv"
      },
      "outputs": [],
      "source": [
        "from PIL import Image"
      ]
    },
    {
      "cell_type": "markdown",
      "source": [
        "Загружаем изображение"
      ],
      "metadata": {
        "id": "Hrx-qXfxjiIP"
      }
    },
    {
      "cell_type": "code",
      "execution_count": 33,
      "metadata": {
        "id": "uKOIz3Ax7pxw"
      },
      "outputs": [],
      "source": [
        "im = Image.open('pic.jpg')"
      ]
    },
    {
      "cell_type": "code",
      "execution_count": 34,
      "metadata": {
        "id": "2awX8jn87pxw",
        "outputId": "0e11bbe3-aac1-4dd5-dc95-700171747970",
        "colab": {
          "base_uri": "https://localhost:8080/"
        }
      },
      "outputs": [
        {
          "output_type": "execute_result",
          "data": {
            "text/plain": [
              "(1920, 1080)"
            ]
          },
          "metadata": {},
          "execution_count": 34
        }
      ],
      "source": [
        "im.size"
      ]
    },
    {
      "cell_type": "code",
      "execution_count": 35,
      "metadata": {
        "id": "hNi_rydW7pxw"
      },
      "outputs": [],
      "source": [
        "import matplotlib.pyplot as plt"
      ]
    },
    {
      "cell_type": "markdown",
      "source": [
        "Посмотрим, что загрузилось"
      ],
      "metadata": {
        "id": "0gRDz1DajoKY"
      }
    },
    {
      "cell_type": "code",
      "execution_count": 36,
      "metadata": {
        "colab": {
          "base_uri": "https://localhost:8080/",
          "height": 736
        },
        "id": "qYUDASrX7pxx",
        "outputId": "e0c84ccf-34b9-47eb-8e75-dec4940b5541"
      },
      "outputs": [
        {
          "output_type": "execute_result",
          "data": {
            "text/plain": [
              "<matplotlib.image.AxesImage at 0x7fe459bd9a20>"
            ]
          },
          "metadata": {},
          "execution_count": 36
        },
        {
          "output_type": "display_data",
          "data": {
            "text/plain": [
              "<Figure size 1500x1000 with 1 Axes>"
            ],
          },
          "metadata": {}
        }
      ],
      "source": [
        "plt.figure(figsize=(15.,10.))\n",
        "plt.imshow(im)"
      ]
    },
    {
      "cell_type": "markdown",
      "source": [
        "Переводим в трехмерный numpy массив (x, y, цвет)."
      ],
      "metadata": {
        "id": "nAqNmZYOjuq1"
      }
    },
    {
      "cell_type": "code",
      "execution_count": 42,
      "metadata": {
        "id": "zFx9L9gV7pxx",
        "outputId": "4e72365d-be18-4690-a3ed-3c147dbcb730",
        "colab": {
          "base_uri": "https://localhost:8080/"
        }
      },
      "outputs": [
        {
          "output_type": "execute_result",
          "data": {
            "text/plain": [
              "array([[[194,  24,  27],\n",
              "        [203,  23,  24],\n",
              "        [211,  21,  21],\n",
              "        [218,  18,  20],\n",
              "        [226,  16,  17]],\n",
              "\n",
              "       [[185,  35,  36],\n",
              "        [199,  36,  31],\n",
              "        [206,  32,  25],\n",
              "        [214,  27,  22],\n",
              "        [220,  22,  19]],\n",
              "\n",
              "       [[186,  64,  61],\n",
              "        [197,  55,  43],\n",
              "        [205,  48,  33],\n",
              "        [210,  38,  26],\n",
              "        [215,  31,  21]],\n",
              "\n",
              "       [[200,  88,  77],\n",
              "        [203,  67,  51],\n",
              "        [209,  56,  38],\n",
              "        [212,  45,  29],\n",
              "        [216,  36,  22]],\n",
              "\n",
              "       [[200,  74,  59],\n",
              "        [208,  66,  46],\n",
              "        [215,  56,  35],\n",
              "        [217,  46,  29],\n",
              "        [221,  38,  24]]], dtype=uint8)"
            ]
          },
          "metadata": {},
          "execution_count": 42
        }
      ],
      "source": [
        "a = np.asarray(im)\n",
        "a[500:505, 495:500]"
      ]
    },
    {
      "cell_type": "markdown",
      "source": [
        "Найдем фрагменты изображения, с нужным нам наличием/отсутствием цвета."
      ],
      "metadata": {
        "id": "AVfM3XKRj9Mh"
      }
    },
    {
      "cell_type": "code",
      "execution_count": 43,
      "metadata": {
        "id": "NR66HTSf7pxx",
        "outputId": "b30caa21-0de0-4c88-97b4-aaa7b8be139e",
        "colab": {
          "base_uri": "https://localhost:8080/",
          "height": 452
        }
      },
      "outputs": [
        {
          "output_type": "execute_result",
          "data": {
            "text/plain": [
              "<matplotlib.image.AxesImage at 0x7fe46424bc70>"
            ]
          },
          "metadata": {},
          "execution_count": 43
        },
        {
          "output_type": "display_data",
          "data": {
            "text/plain": [
              "<Figure size 640x480 with 1 Axes>"
            ],
          },
          "metadata": {}
        }
      ],
      "source": [
        "plt.imshow(a[100:500, 150:500])"
      ]
    },
    {
      "cell_type": "markdown",
      "source": [
        "**Красное:**"
      ],
      "metadata": {
        "id": "VRxmYDWUtuKi"
      }
    },
    {
      "cell_type": "code",
      "execution_count": 44,
      "metadata": {
        "id": "jjuxycbk7pxx",
        "outputId": "035b977e-8705-47b3-bd78-c62524d08d1b",
        "colab": {
          "base_uri": "https://localhost:8080/",
          "height": 328
        }
      },
      "outputs": [
        {
          "output_type": "execute_result",
          "data": {
            "text/plain": [
              "<matplotlib.image.AxesImage at 0x7fe459ca9600>"
            ]
          },
          "metadata": {},
          "execution_count": 44
        },
        {
          "output_type": "display_data",
          "data": {
            "text/plain": [
              "<Figure size 640x480 with 1 Axes>"
            ],
          },
          "metadata": {}
        }
      ],
      "source": [
        "plt.imshow(a[400:450, 350:450])"
      ]
    },
    {
      "cell_type": "markdown",
      "source": [
        "**Не красное:**"
      ],
      "metadata": {
        "id": "aLV1pMmwtrYe"
      }
    },
    {
      "cell_type": "code",
      "execution_count": 48,
      "metadata": {
        "id": "qzQOV5_s7pxy",
        "outputId": "8adf7109-73be-466f-b122-11ceea40488d",
        "colab": {
          "base_uri": "https://localhost:8080/",
          "height": 450
        }
      },
      "outputs": [
        {
          "output_type": "execute_result",
          "data": {
            "text/plain": [
              "<matplotlib.image.AxesImage at 0x7fe459b70c70>"
            ]
          },
          "metadata": {},
          "execution_count": 48
        },
        {
          "output_type": "display_data",
          "data": {
            "text/plain": [
              "<Figure size 640x480 with 1 Axes>"
            ],
            "text/plain": [
              "<Figure size 432x288 with 1 Axes>"
            ]
          },
          "metadata": {
            "needs_background": "light"
          },
          "output_type": "display_data"
        }
      ],
      "source": [
        "var_1 = np.array([[300,0,300,300,300],\n",
        "                [100,0,100,100,100],\n",
        "                [0,0,0,0,0],\n",
        "                [100,0,100,100,100],\n",
        "                [0,0,0,0,0]], dtype='uint8')\n",
        "var_2 = np.array([[[300,300,300],[0,0,0],[300,0,0],[0,300,0],[0,0,300]],\n",
        "                [[100,0,0],[0,0,0],[100,0,0],[100,0,0],[100,0,0]],\n",
        "                [[0,0,0],[0,0,0],[0,0,0],[0,0,0],[0,0,0]],\n",
        "                [[100,0,0],[0,0,0],[100,0,0],[100,0,0],[100,0,0]],\n",
        "                [[0,0,0],[0,0,0],[0,0,0],[0,0,0],[0,0,0]]], dtype='uint8')\n",
        "print(var_1.shape)\n",
        "plt.imshow(Image.fromarray(var_1, mode=\"L\"))\n",
        "# plt.imshow(Image.fromarray(var_2, mode=\"RGB\"))"
      ]
    },
    {
      "cell_type": "markdown",
      "metadata": {
        "id": "Eqnk5EXP7px2"
      },
      "source": [
        "# Работает с моделью машинного обучения:"
      ]
    },
    {
      "cell_type": "markdown",
      "source": [
        "> Тут была магия, которую вам надо реализовать."
      ],
      "metadata": {
        "id": "HSHcmLCDs8EU"
      }
    },
    {
      "cell_type": "code",
      "execution_count": 51,
      "metadata": {
        "colab": {
          "base_uri": "https://localhost:8080/"
        },
        "id": "vu9ocger7px3",
        "outputId": "42ce11b6-696f-4fdd-c0b6-76709a56baee"
      },
      "outputs": [
        {
          "output_type": "stream",
          "name": "stderr",
          "text": [
            "/usr/local/lib/python3.10/dist-packages/sklearn/utils/validation.py:1143: DataConversionWarning: A column-vector y was passed when a 1d array was expected. Please change the shape of y to (n_samples, ), for example using ravel().\n",
            "  y = column_or_1d(y, warn=True)\n"
          ]
        },
        {
          "output_type": "execute_result",
          "data": {
            "text/plain": [
              "0.972"
            ]
          },
          "metadata": {},
          "execution_count": 51
        }
      ],
      "source": [
        "from sklearn.linear_model import LogisticRegression\n",
        "\n",
        "model = LogisticRegression().fit(x_train, y_train)\n",
        "model.score(x_test, y_test)\n"
      ]
    },
    {
      "cell_type": "markdown",
      "source": [
        "Подготовка данных (всего изображения) для передачи в нейронку."
      ],
      "metadata": {
        "id": "Ua_4hPzjlGpu"
      }
    },
    {
      "cell_type": "markdown",
      "source": [
        "Обработка данных нейронной сетью."
      ],
      "metadata": {
        "id": "hpcACFDole5Y"
      }
    },
    {
      "cell_type": "code",
      "source": [
        "res = []\n",
        "for i in range(len(mas)):\n",
        "    res.append(100*model.predict(mas[i]))"
      ],
      "metadata": {
        "id": "AGLP-UhR8a_D"
      },
      "execution_count": 53,
      "outputs": []
    },
    {
      "cell_type": "markdown",
      "source": [
        "Преобразование полученного от нейронки списка в массив для вывода на экран."
      ],
      "metadata": {
        "id": "Td3jEBmwlcX1"
      }
    },
    {
      "cell_type": "code",
      "execution_count": null,
      "metadata": {
        "id": "BemZ5OL47px3"
      },
      "outputs": [],
      "source": [
        "our_array = np.array(res, dtype='uint8').reshape(1080,1920)"
      ]
    },
    {
      "cell_type": "markdown",
      "source": [
        "Проверка количества пикселей, распознанных как красные."
      ],
      "metadata": {
        "id": "a3BsLpaFzQ-v"
      }
    },
    {
      "cell_type": "code",
      "source": [
        "res.count([100]), res.count([0])"
      ],
      "metadata": {
        "colab": {
          "base_uri": "https://localhost:8080/"
        },
        "id": "lRWyR2-QzETJ",
        "outputId": "f28806b9-3a10-4716-db39-6c5a312b19b9"
      },
      "execution_count": 58,
      "outputs": [
        {
          "output_type": "execute_result",
          "data": {
            "text/plain": [
              "(307620, 1765980)"
            ]
          },
          "metadata": {},
          "execution_count": 58
        }
      ]
    },
    {
      "cell_type": "markdown",
      "source": [
        "На мой взгляд, топ:"
      ],
      "metadata": {
        "id": "8T_ECD7vt545"
      }
    },
    {
      "cell_type": "code",
      "execution_count": null,
      "metadata": {
        "colab": {
          "base_uri": "https://localhost:8080/",
          "height": 736
        },
        "id": "sAVQzFC77px4",
        "outputId": "b63e8178-9343-4146-88b9-cabffccf3ded"
      },
      "outputs": [
        {
          "output_type": "execute_result",
          "data": {
            "text/plain": [
              "<matplotlib.image.AxesImage at 0x7f039a1e34c0>"
            ]
          },
          "metadata": {},
          "execution_count": 26
        },
        {
          "output_type": "display_data",
          "data": {
            "text/plain": [
              "<Figure size 1500x1000 with 1 Axes>"
            ],
          },
          "metadata": {}
        }
      ],
      "source": [
        "plt.figure(figsize=(15.,10.))\n",
        "plt.imshow(Image.fromarray(our_array, mode=\"L\"))"
      ]
    }
  ],
  "metadata": {
    "kernelspec": {
      "display_name": "Python 3.8.0 32-bit",
      "language": "python",
      "name": "python3"
    },
    "language_info": {
      "codemirror_mode": {
        "name": "ipython",
        "version": 3
      },
      "file_extension": ".py",
      "mimetype": "text/x-python",
      "name": "python",
      "nbconvert_exporter": "python",
      "pygments_lexer": "ipython3",
      "version": "3.8.0"
    },
    "orig_nbformat": 4,
    "vscode": {
      "interpreter": {
        "hash": "b4670ae8c374473a5ca0b3ac79334331f1870a7cbc78d033c6ecb323be727a43"
      }
    },
    "colab": {
      "provenance": []
    }
  },
  "nbformat": 4,
  "nbformat_minor": 0
}