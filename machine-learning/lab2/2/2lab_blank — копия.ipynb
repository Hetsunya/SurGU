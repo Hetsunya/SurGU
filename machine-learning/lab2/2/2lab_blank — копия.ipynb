{
 "cells": [
  {
   "cell_type": "markdown",
   "metadata": {
    "id": "vIozmGF7aL2s"
   },
   "source": [
    "# Задание 2"
   ]
  },
  {
   "cell_type": "markdown",
   "metadata": {
    "id": "DUxPN1OpblVO"
   },
   "source": [
    "## Проверим Pandas\n",
    "Скачать с Kaggle [данные с температурой по городам](https://www.kaggle.com/datasets/sudalairajkumar/daily-temperature-of-major-cities).\n",
    "\n",
    "Если очень не хочется регистрироваться на сайте, архив *(2data.zip)* можно взять в папке с [заданием](https://disk.yandex.ru/d/MrtwhwSBdLuKKA)."
   ]
  },
  {
   "cell_type": "code",
   "execution_count": 1,
   "metadata": {
    "id": "gQaWQpUm7pxd"
   },
   "outputs": [],
   "source": [
    "import pandas as pd # type: ignore"
   ]
  },
  {
   "cell_type": "markdown",
   "metadata": {
    "id": "CQrDk5NsmtI9"
   },
   "source": [
    "Считать данные в `pandas.DataFrame`, посмотреть, что там лежит.\n",
    "\n",
    "Если хотите вспомнить, как обращаться с DataFrame, могу порекомендовать [мини-курс](https://www.kaggle.com/code/residentmario/creating-reading-and-writing) на том же Kaggle:  там есть примеры всех нужных действий, сгруппированных на 6 страницах (считывание, обращение по индексу, изменение, типы данных)."
   ]
  },
  {
   "cell_type": "code",
   "execution_count": 2,
   "metadata": {
    "id": "tE0CxmVDm-KF"
   },
   "outputs": [
    {
     "name": "stdout",
     "output_type": "stream",
     "text": [
      "   Region  Country State     City  Month  Day  Year  AvgTemperature\n",
      "0  Africa  Algeria   NaN  Algiers      1    1  1995            64.2\n",
      "1  Africa  Algeria   NaN  Algiers      1    2  1995            49.4\n",
      "2  Africa  Algeria   NaN  Algiers      1    3  1995            48.8\n",
      "3  Africa  Algeria   NaN  Algiers      1    4  1995            46.4\n",
      "4  Africa  Algeria   NaN  Algiers      1    5  1995            47.9\n",
      "<class 'pandas.core.frame.DataFrame'>\n",
      "RangeIndex: 2906327 entries, 0 to 2906326\n",
      "Data columns (total 8 columns):\n",
      " #   Column          Dtype  \n",
      "---  ------          -----  \n",
      " 0   Region          object \n",
      " 1   Country         object \n",
      " 2   State           object \n",
      " 3   City            object \n",
      " 4   Month           int64  \n",
      " 5   Day             int64  \n",
      " 6   Year            int64  \n",
      " 7   AvgTemperature  float64\n",
      "dtypes: float64(1), int64(3), object(4)\n",
      "memory usage: 177.4+ MB\n",
      "None\n"
     ]
    }
   ],
   "source": [
    "import pandas as pd # type: ignore\n",
    "\n",
    "df = pd.read_csv('city_temperature.csv', low_memory=False)\n",
    "\n",
    "print(df.head())\n",
    "print(df.info())"
   ]
  },
  {
   "cell_type": "markdown",
   "metadata": {
    "id": "fjXnzqZf7pxm"
   },
   "source": [
    "Сколько записей имеют нулевое значение по полю State?"
   ]
  },
  {
   "cell_type": "code",
   "execution_count": 3,
   "metadata": {
    "id": "-Ix_qN9d0Gc4"
   },
   "outputs": [
    {
     "name": "stdout",
     "output_type": "stream",
     "text": [
      "Количество записей с нулевым значением в поле 'State': 1450990\n"
     ]
    }
   ],
   "source": [
    "import pandas as pd # type: ignore\n",
    "\n",
    "df = pd.read_csv('city_temperature.csv', low_memory=False)\n",
    "\n",
    "null_count = df['State'].isna().sum()\n",
    "\n",
    "print(f\"Количество записей с нулевым значением в поле 'State': {null_count}\")"
   ]
  },
  {
   "cell_type": "markdown",
   "metadata": {
    "id": "QGBVe_hfpRYi"
   },
   "source": [
    "Нужно сравнить выполнение операции над числами с плавающей точкой и над целыми числами. Для этого в DateFrame следует создать новый столбец, в который будут записаны значения температуры, умноженные на 10 и приведенные к *int*."
   ]
  },
  {
   "cell_type": "code",
   "execution_count": 4,
   "metadata": {
    "id": "MrHtqvY1qjOa"
   },
   "outputs": [
    {
     "name": "stdout",
     "output_type": "stream",
     "text": [
      "   AvgTemperature  Temperature_int\n",
      "0            64.2              642\n",
      "1            49.4              494\n",
      "2            48.8              488\n",
      "3            46.4              464\n",
      "4            47.9              479\n",
      "<class 'pandas.core.frame.DataFrame'>\n",
      "RangeIndex: 2906327 entries, 0 to 2906326\n",
      "Data columns (total 9 columns):\n",
      " #   Column           Dtype  \n",
      "---  ------           -----  \n",
      " 0   Region           object \n",
      " 1   Country          object \n",
      " 2   State            object \n",
      " 3   City             object \n",
      " 4   Month            int64  \n",
      " 5   Day              int64  \n",
      " 6   Year             int64  \n",
      " 7   AvgTemperature   float64\n",
      " 8   Temperature_int  int64  \n",
      "dtypes: float64(1), int64(4), object(4)\n",
      "memory usage: 199.6+ MB\n",
      "None\n",
      "Время выполнения операции над числами с плавающей точкой: 0.004468202591 секунд\n",
      "Время выполнения операции над целыми числами: 0.001149177551 секунд\n"
     ]
    }
   ],
   "source": [
    "import pandas as pd # type: ignore\n",
    "import time\n",
    "\n",
    "df = pd.read_csv('city_temperature.csv', low_memory=False)\n",
    "\n",
    "df['Temperature_int'] = (df['AvgTemperature'] * 10).astype(int)\n",
    "\n",
    "print(df[['AvgTemperature', 'Temperature_int']].head())\n",
    "\n",
    "print(df.info())\n",
    "\n",
    "def test_operation(data):\n",
    "    return data.sum()\n",
    "\n",
    "start_time = time.time()\n",
    "float_result = test_operation(df['AvgTemperature'])\n",
    "float_time = time.time() - start_time\n",
    "\n",
    "start_time = time.time()\n",
    "int_result = test_operation(df['Temperature_int'])\n",
    "int_time = time.time() - start_time\n",
    "\n",
    "print(f\"Время выполнения операции над числами с плавающей точкой: {float_time:.12f} секунд\")\n",
    "print(f\"Время выполнения операции над целыми числами: {int_time:.12f} секунд\")"
   ]
  },
  {
   "cell_type": "markdown",
   "metadata": {
    "id": "_ZcifPrVqdVb"
   },
   "source": [
    "Замерить время исполнения операции с данными (например, подсчета среднего значения `mean()` для столбца).\n",
    "\n",
    "Предлагаю использовать библиотеку **datetime**, но можете использовать любую другую.\n"
   ]
  },
  {
   "cell_type": "code",
   "execution_count": 5,
   "metadata": {
    "id": "aMq3n76u0Mli"
   },
   "outputs": [
    {
     "name": "stdout",
     "output_type": "stream",
     "text": [
      "   AvgTemperature  Temperature_int\n",
      "0            64.2              642\n",
      "1            49.4              494\n",
      "2            48.8              488\n",
      "3            46.4              464\n",
      "4            47.9              479\n",
      "<class 'pandas.core.frame.DataFrame'>\n",
      "RangeIndex: 2906327 entries, 0 to 2906326\n",
      "Data columns (total 9 columns):\n",
      " #   Column           Dtype  \n",
      "---  ------           -----  \n",
      " 0   Region           object \n",
      " 1   Country          object \n",
      " 2   State            object \n",
      " 3   City             object \n",
      " 4   Month            int64  \n",
      " 5   Day              int64  \n",
      " 6   Year             int64  \n",
      " 7   AvgTemperature   float64\n",
      " 8   Temperature_int  int64  \n",
      "dtypes: float64(1), int64(4), object(4)\n",
      "memory usage: 199.6+ MB\n",
      "None\n",
      "Время выполнения операции над числами с плавающей точкой: 0.003854990005 секунд\n",
      "Время выполнения операции над целыми числами: 0.001789331436 секунд\n"
     ]
    }
   ],
   "source": [
    "import pandas as pd # type: ignore\n",
    "import time\n",
    "\n",
    "df = pd.read_csv('city_temperature.csv', low_memory=False)\n",
    "\n",
    "df['Temperature_int'] = (df['AvgTemperature'] * 10).astype(int)\n",
    "\n",
    "print(df[['AvgTemperature', 'Temperature_int']].head())\n",
    "\n",
    "print(df.info())\n",
    "\n",
    "def test_operation(data):\n",
    "    return data.mean()\n",
    "\n",
    "start_time = time.time()\n",
    "float_result = test_operation(df['AvgTemperature'])\n",
    "float_time = time.time() - start_time\n",
    "\n",
    "start_time = time.time()\n",
    "int_result = test_operation(df['Temperature_int'])\n",
    "int_time = time.time() - start_time\n",
    "\n",
    "print(f\"Время выполнения операции над числами с плавающей точкой: {float_time:.12f} секунд\")\n",
    "print(f\"Время выполнения операции над целыми числами: {int_time:.12f} секунд\")"
   ]
  },
  {
   "cell_type": "markdown",
   "metadata": {
    "id": "4lrubLjkatG1"
   },
   "source": [
    "## Проверка через numpy\n",
    "Проверим то же самое для numpy массива. Для этого колонку `pd.Series` нужно привести к numpy массиву, явно указав тип данных. Для исходной температуры будет float64, для целочисленной - int16."
   ]
  },
  {
   "cell_type": "code",
   "execution_count": 6,
   "metadata": {
    "id": "Kjcb7yhC7pxt"
   },
   "outputs": [],
   "source": [
    "import numpy as np # type: ignore"
   ]
  },
  {
   "cell_type": "code",
   "execution_count": 7,
   "metadata": {
    "id": "_40fPrserwPG"
   },
   "outputs": [
    {
     "name": "stdout",
     "output_type": "stream",
     "text": [
      "Среднее время выполнения операции над массивом с типом float64: 0.0010679101 секунд\n",
      "Среднее время выполнения операции над массивом с типом int16: 0.0006798848 секунд\n"
     ]
    }
   ],
   "source": [
    "import pandas as pd # type: ignore\n",
    "import numpy as np # type: ignore\n",
    "import timeit\n",
    "\n",
    "df = pd.read_csv('city_temperature.csv', low_memory=False)\n",
    "\n",
    "# Преобразование столбцов в numpy массивы с нужными типами данных\n",
    "temp_float64 = df['AvgTemperature'].to_numpy(dtype=np.float64)\n",
    "temp_int16 = (df['AvgTemperature'] * 10).astype(np.int16).to_numpy()\n",
    "\n",
    "def test_operation_float64():\n",
    "    return np.sum(temp_float64)\n",
    "\n",
    "def test_operation_int16():\n",
    "    return np.sum(temp_int16)\n",
    "\n",
    "number_of_repeats = 100\n",
    "\n",
    "float_time = timeit.timeit(test_operation_float64, number=number_of_repeats)\n",
    "int_time = timeit.timeit(test_operation_int16, number=number_of_repeats)\n",
    "\n",
    "print(f\"Среднее время выполнения операции над массивом с типом float64: {float_time / number_of_repeats:.10f} секунд\")\n",
    "print(f\"Среднее время выполнения операции над массивом с типом int16: {int_time / number_of_repeats:.10f} секунд\")"
   ]
  },
  {
   "cell_type": "markdown",
   "metadata": {
    "id": "LzB-LpgFrxFy"
   },
   "source": [
    "Замерить время выполнения той же операции `mean()`."
   ]
  },
  {
   "cell_type": "code",
   "execution_count": 8,
   "metadata": {
    "id": "KwBhDe9sr5Un"
   },
   "outputs": [
    {
     "name": "stdout",
     "output_type": "stream",
     "text": [
      "Среднее время выполнения операции над массивом с типом float64: 0.0010015028 секунд\n",
      "Среднее время выполнения операции над массивом с типом int16: 0.0008063210 секунд\n"
     ]
    }
   ],
   "source": [
    "import pandas as pd # type: ignore\n",
    "import numpy as np # type: ignore\n",
    "import timeit\n",
    "\n",
    "df = pd.read_csv('city_temperature.csv', low_memory=False)\n",
    "\n",
    "temp_float64 = df['AvgTemperature'].to_numpy(dtype=np.float64)\n",
    "temp_int16 = (df['AvgTemperature'] * 10).astype(np.int16).to_numpy()\n",
    "\n",
    "def test_operation_float64():\n",
    "    return np.mean(temp_float64)\n",
    "\n",
    "def test_operation_int16():\n",
    "    return np.mean(temp_int16)\n",
    "\n",
    "number_of_repeats = 100\n",
    "\n",
    "float_time = timeit.timeit(test_operation_float64, number=number_of_repeats)\n",
    "int_time = timeit.timeit(test_operation_int16, number=number_of_repeats)\n",
    "\n",
    "print(f\"Среднее время выполнения операции над массивом с типом float64: {float_time / number_of_repeats:.10f} секунд\")\n",
    "print(f\"Среднее время выполнения операции над массивом с типом int16: {int_time / number_of_repeats:.10f} секунд\")"
   ]
  },
  {
   "cell_type": "markdown",
   "metadata": {
    "id": "C4zWbSViazvN"
   },
   "source": [
    "# Задание 4"
   ]
  },
  {
   "cell_type": "code",
   "execution_count": 9,
   "metadata": {
    "id": "AsUsYR8q7pxv"
   },
   "outputs": [],
   "source": [
    "from PIL import Image # type: ignore"
   ]
  },
  {
   "cell_type": "markdown",
   "metadata": {
    "id": "Hrx-qXfxjiIP"
   },
   "source": [
    "Загружаем изображение"
   ]
  },
  {
   "cell_type": "code",
   "execution_count": 10,
   "metadata": {
    "id": "uKOIz3Ax7pxw"
   },
   "outputs": [
    {
     "data": {
      "text/plain": [
       "(1147, 642)"
      ]
     },
     "execution_count": 10,
     "metadata": {},
     "output_type": "execute_result"
    }
   ],
   "source": [
    "im = Image.open('pic.jpg')\n",
    "im.size"
   ]
  },
  {
   "cell_type": "code",
   "execution_count": 11,
   "metadata": {
    "id": "hNi_rydW7pxw"
   },
   "outputs": [],
   "source": [
    "import matplotlib.pyplot as plt # type: ignore"
   ]
  },
  {
   "cell_type": "markdown",
   "metadata": {
    "id": "0gRDz1DajoKY"
   },
   "source": [
    "Посмотрим, что загрузилось"
   ]
  },
  {
   "cell_type": "code",
   "execution_count": 12,
   "metadata": {
    "colab": {
     "base_uri": "https://localhost:8080/",
     "height": 736
    },
    "id": "qYUDASrX7pxx",
    "outputId": "e0c84ccf-34b9-47eb-8e75-dec4940b5541"
   },
   "outputs": [
    {
     "data": {
      "text/plain": [
       "<matplotlib.image.AxesImage at 0x7f6a537d5400>"
      ]
     },
     "execution_count": 12,
     "metadata": {},
     "output_type": "execute_result"
    },
    {
     "data": {
      "text/plain": [
       "<Figure size 1500x1000 with 1 Axes>"
      ]
     },
     "metadata": {},
     "output_type": "display_data"
    }
   ],
   "source": [
    "plt.figure(figsize=(15.,10.))\n",
    "plt.imshow(im)"
   ]
  },
  {
   "cell_type": "markdown",
   "metadata": {
    "id": "nAqNmZYOjuq1"
   },
   "source": [
    "Переводим в трехмерный numpy массив (x, y, цвет)."
   ]
  },
  {
   "cell_type": "code",
   "execution_count": 13,
   "metadata": {
    "colab": {
     "base_uri": "https://localhost:8080/"
    },
    "id": "zFx9L9gV7pxx",
    "outputId": "4e72365d-be18-4690-a3ed-3c147dbcb730"
   },
   "outputs": [
    {
     "data": {
      "text/plain": [
       "array([[[151, 146, 150, 255],\n",
       "        [103,  98, 102, 255],\n",
       "        [ 63,  58,  64, 255],\n",
       "        [ 48,  42,  48, 255],\n",
       "        [ 35,  28,  36, 255]],\n",
       "\n",
       "       [[169, 164, 168, 255],\n",
       "        [117, 112, 116, 255],\n",
       "        [ 90,  83,  90, 255],\n",
       "        [ 73,  66,  73, 255],\n",
       "        [ 43,  34,  42, 255]],\n",
       "\n",
       "       [[144, 139, 143, 255],\n",
       "        [115, 110, 114, 255],\n",
       "        [103,  97, 101, 255],\n",
       "        [ 82,  76,  82, 255],\n",
       "        [ 52,  43,  51, 255]],\n",
       "\n",
       "       [[ 97,  92,  96, 255],\n",
       "        [ 87,  82,  86, 255],\n",
       "        [ 78,  72,  76, 255],\n",
       "        [ 72,  66,  71, 255],\n",
       "        [ 80,  71,  78, 255]],\n",
       "\n",
       "       [[124, 120, 123, 255],\n",
       "        [124, 119, 123, 255],\n",
       "        [113, 109, 114, 255],\n",
       "        [105,  99, 106, 255],\n",
       "        [136, 127, 135, 255]]], dtype=uint8)"
      ]
     },
     "execution_count": 13,
     "metadata": {},
     "output_type": "execute_result"
    }
   ],
   "source": [
    "import numpy as np # type: ignore\n",
    "a = np.asarray(im)\n",
    "a[500:505, 495:500]"
   ]
  },
  {
   "cell_type": "markdown",
   "metadata": {
    "id": "AVfM3XKRj9Mh"
   },
   "source": [
    "Найдем фрагменты изображения, с нужным нам наличием/отсутствием цвета."
   ]
  },
  {
   "cell_type": "code",
   "execution_count": 14,
   "metadata": {
    "colab": {
     "base_uri": "https://localhost:8080/",
     "height": 452
    },
    "id": "NR66HTSf7pxx",
    "outputId": "b30caa21-0de0-4c88-97b4-aaa7b8be139e"
   },
   "outputs": [
    {
     "data": {
      "text/plain": [
       "<matplotlib.image.AxesImage at 0x7f6a00836710>"
      ]
     },
     "execution_count": 14,
     "metadata": {},
     "output_type": "execute_result"
    },
    {
     "data": {
      "text/plain": [
       "<Figure size 640x480 with 1 Axes>"
      ]
     },
     "metadata": {},
     "output_type": "display_data"
    }
   ],
   "source": [
    "plt.imshow(a[100:500, 150:500])"
   ]
  },
  {
   "cell_type": "markdown",
   "metadata": {
    "id": "VRxmYDWUtuKi"
   },
   "source": [
    "**Красное:**"
   ]
  },
  {
   "cell_type": "code",
   "execution_count": 15,
   "metadata": {
    "colab": {
     "base_uri": "https://localhost:8080/",
     "height": 328
    },
    "id": "jjuxycbk7pxx",
    "outputId": "035b977e-8705-47b3-bd78-c62524d08d1b"
   },
   "outputs": [
    {
     "data": {
      "text/plain": [
       "<matplotlib.image.AxesImage at 0x7f6a008b6850>"
      ]
     },
     "execution_count": 15,
     "metadata": {},
     "output_type": "execute_result"
    },
    {
     "data": {
      "text/plain": [
       "<Figure size 640x480 with 1 Axes>"
      ]
     },
     "metadata": {},
     "output_type": "display_data"
    }
   ],
   "source": [
    "from PIL import Image # type: ignore\n",
    "import numpy as np # type: ignore\n",
    "import matplotlib.pyplot as plt # type: ignore\n",
    "\n",
    "im = Image.open('pic.jpg')\n",
    "im.size\n",
    "\n",
    "a = np.asarray(im)\n",
    "\n",
    "\n",
    "plt.imshow(a[550:600, 900:950])\n",
    "\n"
   ]
  },
  {
   "cell_type": "markdown",
   "metadata": {
    "id": "B76MpSR-kJeu"
   },
   "source": [
    "Подготовка набора данных для обучения.\n",
    "\n",
    "Желательно, чередовать положительные и отрицательные примеры, при добавлении их в общий массив:\n",
    "\n",
    "~~y = [0,0,0,1,1,1]~~\n",
    "\n",
    "`y  = [0,1,0,1,0,1]`.\n",
    "\n",
    "Должно получиться следующее (*для нейронки с 3-мя входами и одним выходом*):\n",
    "\n",
    "|x_R|x_G|x_B|y_Target|\n",
    "|---|---|---|---|\n",
    "|255|255|0|1|\n",
    "|0|0|255|0|\n",
    "\n"
   ]
  },
  {
   "cell_type": "code",
   "execution_count": 17,
   "metadata": {
    "id": "VTAzR0MzwEmY"
   },
   "outputs": [
    {
     "name": "stdout",
     "output_type": "stream",
     "text": [
      "          R  G  B  our color\n",
      "0       206  0  1          1\n",
      "1       207  0  2          1\n",
      "2       206  0  0          1\n",
      "3       207  0  1          1\n",
      "4       206  0  0          1\n",
      "...     ... .. ..        ...\n",
      "736369    0  0  0          0\n",
      "736370    0  0  0          0\n",
      "736371    0  0  0          0\n",
      "736372    0  0  0          0\n",
      "736373    0  0  0          0\n",
      "\n",
      "[736374 rows x 4 columns]\n",
      "          R    G    B  our color\n",
      "0       227    0    4          1\n",
      "1       213   34   23          1\n",
      "2         0    0    0          0\n",
      "3         7   13   37          0\n",
      "4         9    7    8          0\n",
      "...     ...  ...  ...        ...\n",
      "736369  189   19   85          0\n",
      "736370  248  246  247          0\n",
      "736371  154   41  159          0\n",
      "736372    0    0    0          0\n",
      "736373    6    3    4          0\n",
      "\n",
      "[736374 rows x 4 columns]\n",
      "Positives: True\n",
      "Negatives: True\n"
     ]
    },
    {
     "data": {
      "text/plain": [
       "<matplotlib.image.AxesImage at 0x7f69fd7b4b90>"
      ]
     },
     "execution_count": 17,
     "metadata": {},
     "output_type": "execute_result"
    },
    {
     "data": {
      "text/plain": [
       "<Figure size 1500x1000 with 1 Axes>"
      ]
     },
     "metadata": {},
     "output_type": "display_data"
    }
   ],
   "source": [
    "image = Image.open('pic.jpg')\n",
    "pixel_colors = np.array(image)\n",
    "\n",
    "# Если изображение в формате RGBA, то берем только RGB\n",
    "if pixel_colors.shape[2] == 4:\n",
    "    pixel_colors = pixel_colors[:, :, :3]\n",
    "\n",
    "target_color = np.array([255, 0, 0])\n",
    "\n",
    "def is_target_color(color):\n",
    "    return np.all(np.abs(color - target_color) < 50)\n",
    "\n",
    "mask_target_color = np.array([[is_target_color(color) for color in row] for row in pixel_colors])\n",
    "pixels_with_target_color = pixel_colors[mask_target_color]\n",
    "pixels_without_target_color = pixel_colors[~mask_target_color]\n",
    "\n",
    "# Создаем копию изображения. Отмечаем пиксели, соответствующие целевому цвету, остальные делаем черными\n",
    "output_image = np.zeros_like(pixel_colors)\n",
    "output_image[mask_target_color] = pixel_colors[mask_target_color]\n",
    "output_image = Image.fromarray(output_image.astype('uint8'))\n",
    "output_image.save('output_image.jpg')\n",
    "\n",
    "# Создание датасета для обучения\n",
    "df_with_target_color = pd.DataFrame(pixels_with_target_color.reshape(-1, 3), columns=['R', 'G', 'B'])\n",
    "df_with_target_color['our color'] = 1\n",
    "\n",
    "df_without_target_color = pd.DataFrame(pixels_without_target_color.reshape(-1, 3), columns=['R', 'G', 'B'])\n",
    "df_without_target_color['our color'] = 0\n",
    "\n",
    "training_data = pd.concat([df_with_target_color, df_without_target_color], ignore_index=True)\n",
    "\n",
    "# Перетасовка датасета\n",
    "shuffled_training_data = training_data.sample(frac=1).reset_index(drop=True)\n",
    "\n",
    "print(training_data)\n",
    "print(shuffled_training_data)\n",
    "\n",
    "positive = np.any(shuffled_training_data['our color'] == 1)\n",
    "negative = np.any(shuffled_training_data['our color'] == 0)\n",
    "\n",
    "print(\"Positives:\", positive)\n",
    "print(\"Negatives:\", negative)\n",
    "\n",
    "plt.figure(figsize=(15.,10.))\n",
    "plt.imshow(output_image)\n"
   ]
  },
  {
   "cell_type": "markdown",
   "metadata": {
    "id": "igceXoQ8wE3s"
   },
   "source": [
    "Делим данные на обучающую и тестовую выборки вручную **(без использования библиотеки sklearn)**.\n",
    "\n",
    "Самый простой вариант: каждый **n**-й набор уходит в тестовую выборку.\n",
    "\n",
    "Проверить, что и в обучающей и в тестовой выборке есть как положительные, так и отрицательные примеры."
   ]
  },
  {
   "cell_type": "code",
   "execution_count": 18,
   "metadata": {
    "id": "nVFIJsMyx2gr"
   },
   "outputs": [
    {
     "name": "stdout",
     "output_type": "stream",
     "text": [
      "Train data:\n",
      "           R   G    B  our color\n",
      "1       213  34   23          1\n",
      "2         0   0    0          0\n",
      "3         7  13   37          0\n",
      "4         9   7    8          0\n",
      "6        32   0    2          0\n",
      "...     ...  ..  ...        ...\n",
      "736368   12   1    1          0\n",
      "736369  189  19   85          0\n",
      "736371  154  41  159          0\n",
      "736372    0   0    0          0\n",
      "736373    6   3    4          0\n",
      "\n",
      "[589099 rows x 4 columns]\n",
      "Test data:\n",
      "           R    G    B  our color\n",
      "0       227    0    4          1\n",
      "5         0    0    0          0\n",
      "10        1    1    1          0\n",
      "15      103    7   20          0\n",
      "20       73  226  248          0\n",
      "...     ...  ...  ...        ...\n",
      "736350    0    0    0          0\n",
      "736355   70   11   29          0\n",
      "736360  152   24   82          0\n",
      "736365    1    1    1          0\n",
      "736370  248  246  247          0\n",
      "\n",
      "[147275 rows x 4 columns]\n",
      "Train has positives: True\n",
      "Train has negatives: True\n",
      "Test has positives: True\n",
      "Test has negatives: True\n"
     ]
    }
   ],
   "source": [
    "n = 5  # каждый n-й элемент будет в тестовой выборке\n",
    "\n",
    "# Создание индексов\n",
    "indices = np.arange(len(shuffled_training_data))\n",
    "\n",
    "# Разделение индексов\n",
    "test_indices = indices[::n]  # выбираем каждый n-й индекс\n",
    "train_indices = np.delete(indices, test_indices)  # остальные индексы для обучающей выборки\n",
    "\n",
    "train_data = shuffled_training_data.iloc[train_indices]\n",
    "test_data = shuffled_training_data.iloc[test_indices]\n",
    "\n",
    "train_positive = np.any(train_data['our color'] == 1)\n",
    "train_negative = np.any(train_data['our color'] == 0)\n",
    "test_positive = np.any(test_data['our color'] == 1)\n",
    "test_negative = np.any(test_data['our color'] == 0)\n",
    "\n",
    "print(\"Train data:\\n\", train_data)\n",
    "print(\"Test data:\\n\", test_data)\n",
    "\n",
    "print(\"Train has positives:\", train_positive)\n",
    "print(\"Train has negatives:\", train_negative)\n",
    "print(\"Test has positives:\", test_positive)\n",
    "print(\"Test has negatives:\", test_negative)\n"
   ]
  },
  {
   "cell_type": "markdown",
   "metadata": {
    "id": "oKLjjSSnkWca"
   },
   "source": [
    "Обучение, оценка результатов\n",
    "\n",
    "*Это происходит в лабе по другому предмету; когда будет готово, можно будет импортировать код библиотекой, подрубить класс нейронки и проверить, как она работает* :)"
   ]
  },
  {
   "cell_type": "code",
   "execution_count": 19,
   "metadata": {
    "id": "Yi6x7fpOyfoz"
   },
   "outputs": [
    {
     "name": "stdout",
     "output_type": "stream",
     "text": [
      "[[227   0   4]\n",
      " [213  34  23]\n",
      " [  0   0   0]\n",
      " ...\n",
      " [154  41 159]\n",
      " [  0   0   0]\n",
      " [  6   3   4]]\n",
      "(array([ 0.9769903 , -0.45356017,  0.66906558]), 1.5172627329842114e-06)\n",
      "Accuracy: 30.00%\n",
      "Accuracy: 29.94%\n",
      "Accuracy: 94.17%\n",
      "Accuracy: 94.15%\n"
     ]
    }
   ],
   "source": [
    "import warnings\n",
    "from neural_network import create_neural_network, train_neural_network, split_data, evaluate_neural_network\n",
    "\n",
    "warnings.filterwarnings(\"ignore\")\n",
    "\n",
    "shuffled_training_data_array = np.array(shuffled_training_data[['R', 'G', 'B']])\n",
    "print(shuffled_training_data_array)\n",
    "target_labels = np.array(shuffled_training_data['our color'])\n",
    "\n",
    "train_data, test_data = split_data(list(zip(shuffled_training_data_array, target_labels)), train_fraction=0.8)\n",
    "\n",
    "neural_net = create_neural_network(1, 3)\n",
    "\n",
    "print(neural_net.neurons[0].get_weights())\n",
    "\n",
    "evaluate_neural_network(neural_net, test_data)\n",
    "evaluate_neural_network(neural_net, train_data)\n",
    "\n",
    "train_neural_network(neural_net, train_data, learning_rate=0.001, epochs=10)\n",
    "\n",
    "evaluate_neural_network(neural_net, test_data)\n",
    "evaluate_neural_network(neural_net, train_data)"
   ]
  }
 ],
 "metadata": {
  "colab": {
   "provenance": []
  },
  "kernelspec": {
   "display_name": "Python 3 (ipykernel)",
   "language": "python",
   "name": "python3"
  },
  "language_info": {
   "codemirror_mode": {
    "name": "ipython",
    "version": 3
   },
   "file_extension": ".py",
   "mimetype": "text/x-python",
   "name": "python",
   "nbconvert_exporter": "python",
   "pygments_lexer": "ipython3",
   "version": "3.13.2"
  }
 },
 "nbformat": 4,
 "nbformat_minor": 4
}
